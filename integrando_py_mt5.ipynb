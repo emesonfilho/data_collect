{
 "cells": [
  {
   "cell_type": "markdown",
   "metadata": {},
   "source": [
    "# Automatizando seus investimentos"
   ]
  },
  {
   "cell_type": "markdown",
   "metadata": {},
   "source": [
    "### Aqui você vai importar a biblioteca do MetaTrader5"
   ]
  },
  {
   "cell_type": "code",
   "execution_count": 24,
   "metadata": {},
   "outputs": [],
   "source": [
    "import MetaTrader5 as mt5"
   ]
  },
  {
   "cell_type": "markdown",
   "metadata": {},
   "source": [
    "### Primeiro iniciamos ele\n",
    "* Não precisa colocar o caminho dele dentro da sua máquina."
   ]
  },
  {
   "cell_type": "code",
   "execution_count": 25,
   "metadata": {},
   "outputs": [
    {
     "data": {
      "text/plain": [
       "True"
      ]
     },
     "execution_count": 25,
     "metadata": {},
     "output_type": "execute_result"
    }
   ],
   "source": [
    "mt5.initialize()"
   ]
  },
  {
   "cell_type": "markdown",
   "metadata": {},
   "source": [
    "### Para você ter uma noção da quantidade de ativos disponíveis para você operar"
   ]
  },
  {
   "cell_type": "code",
   "execution_count": 26,
   "metadata": {},
   "outputs": [
    {
     "name": "stdout",
     "output_type": "stream",
     "text": [
      "Total de símbolos:  16318\n"
     ]
    }
   ],
   "source": [
    "todos_simbolos = mt5.symbols_total()\n",
    "\n",
    "if todos_simbolos > 0:\n",
    "    print(\"Total de símbolos: \", todos_simbolos)\n",
    "else:\n",
    "    print(\"Símbolos não encontrados.\")"
   ]
  },
  {
   "cell_type": "markdown",
   "metadata": {},
   "source": [
    "### Se quiser ver como eles são escritos, caso queira mais de 100 basta mudar o:\n",
    "> cont == 25 para um cont == numero_que_você_quer"
   ]
  },
  {
   "cell_type": "code",
   "execution_count": 28,
   "metadata": {
    "scrolled": true
   },
   "outputs": [
    {
     "name": "stdout",
     "output_type": "stream",
     "text": [
      "ABEVJ17 / 1\n",
      "ABEVJ180 / 2\n",
      "ABEVJ195 / 3\n",
      "ABEVJ215 / 4\n",
      "ABEVK170 / 5\n",
      "ABEVL160 / 6\n",
      "ABEVL220 / 7\n",
      "ABEVL222 / 8\n",
      "ABEVV17 / 9\n",
      "ABEVV180 / 10\n",
      "ABEVV195 / 11\n",
      "ABEVV215 / 12\n",
      "ABEVW170 / 13\n",
      "ABEVX160 / 14\n",
      "ABEVX220 / 15\n",
      "ABEVX222 / 16\n",
      "B3SAI287 / 17\n",
      "B3SAI312 / 18\n",
      "B3SAU287 / 19\n",
      "B3SAU312 / 20\n",
      "BBASA382 / 21\n",
      "BBASC327 / 22\n",
      "BBASC355 / 23\n",
      "BBASI35 / 24\n",
      "BBASI352 / 25\n"
     ]
    }
   ],
   "source": [
    "nome_simbolos = mt5.symbols_get()\n",
    "\n",
    "cont = 0\n",
    "\n",
    "for simbolo in nome_simbolos:\n",
    "    cont = cont + 1\n",
    "    print(f\"{simbolo.name} / {cont}\")\n",
    "    if cont == 25:\n",
    "        break"
   ]
  },
  {
   "cell_type": "markdown",
   "metadata": {},
   "source": [
    "### Finalizando a integração"
   ]
  },
  {
   "cell_type": "code",
   "execution_count": 3,
   "metadata": {},
   "outputs": [
    {
     "data": {
      "text/plain": [
       "True"
      ]
     },
     "execution_count": 3,
     "metadata": {},
     "output_type": "execute_result"
    }
   ],
   "source": [
    "mt5.shutdown()"
   ]
  },
  {
   "cell_type": "markdown",
   "metadata": {},
   "source": [
    "# Aqui eu vou mostrar como enviar uma ordem a mercado\n",
    "* O código vai enviar uma compra de 1 lote de ações de ITUB4.\n",
    "* Caso queira testar com outros ativos basta trocar: symbol = \"ITUB4\" para symbol = \"código_do_outro_ativo\" "
   ]
  },
  {
   "cell_type": "code",
   "execution_count": 22,
   "metadata": {},
   "outputs": [
    {
     "name": "stdout",
     "output_type": "stream",
     "text": [
      "MetaTrader5 package author:  MetaQuotes Software Corp.\n",
      "MetaTrader5 package version:  5.0.33\n",
      "1. order_send(): by ITUB4 100.0 lots at 23.75 with deviation=2 points\n"
     ]
    }
   ],
   "source": [
    "import time\n",
    "import MetaTrader5 as mt5\n",
    " \n",
    "# exibimos dados sobre o pacote MetaTrader5\n",
    "print(\"MetaTrader5 package author: \", mt5.__author__)\n",
    "print(\"MetaTrader5 package version: \", mt5.__version__)\n",
    " \n",
    "# estabelecemos a conexão ao MetaTrader 5\n",
    "if not mt5.initialize():\n",
    "    print(\"initialize() failed, error code =\",mt5.last_error())\n",
    "    quit()\n",
    " \n",
    "# arrumando a estrutura para solicitar a compra\n",
    "\n",
    "symbol = \"ITUB4\"\n",
    "symbol_info = mt5.symbol_info(symbol)\n",
    "if symbol_info is None:\n",
    "    print(symbol, \"not found, can not call order_check()\")\n",
    "    mt5.shutdown()\n",
    "    quit()\n",
    " \n",
    "# se o símbolo não estiver disponível no MarketWatch, adicionamo-lo\n",
    "\n",
    "if not symbol_info.visible:\n",
    "    print(symbol, \"is not visible, trying to switch on\")\n",
    "    if not mt5.symbol_select(symbol,True):\n",
    "        print(\"symbol_select({}}) failed, exit\",symbol)\n",
    "        mt5.shutdown()\n",
    "        quit()\n",
    " \n",
    "lot = float(100)\n",
    "point = mt5.symbol_info(symbol).point\n",
    "price = mt5.symbol_info_tick(symbol).ask\n",
    "deviation = 2\n",
    "request = {\n",
    "    \"action\": mt5.TRADE_ACTION_DEAL,\n",
    "    \"symbol\": symbol,\n",
    "    \"volume\": lot,\n",
    "    \"type\": mt5.ORDER_TYPE_BUY,\n",
    "    \"price\": price,\n",
    "    \"sl\": price - 10 * point,\n",
    "    \"tp\": price + 10 * point,\n",
    "    \"deviation\": deviation,\n",
    "    \"magic\": 234000,\n",
    "    \"comment\": \"python script open\",\n",
    "    \"type_time\": mt5.ORDER_TIME_GTC,\n",
    "    \"type_filling\": mt5.ORDER_FILLING_RETURN,\n",
    "}\n",
    " \n",
    "# enviamos a solicitação de negociação\n",
    "result = mt5.order_send(request)\n",
    "# verificamos o resultado da execução\n",
    "print(\"1. order_send(): by {} {} lots at {} with deviation={} points\".format(symbol,lot,price,deviation));\n",
    "if result.retcode != mt5.TRADE_RETCODE_DONE:\n",
    "    print(\"2. order_send failed, retcode={}\".format(result.retcode))\n",
    "   # solicitamos o resultado na forma de dicionário e exibimos elemento por elemento\n",
    "    result_dict=result._asdict()\n",
    "    for field in result_dict.keys():\n",
    "        print(\"   {}={}\".format(field,result_dict[field]))\n",
    "        #se esta for uma estrutura de uma solicitação de negociação, também a exibiremos elemento a elemento\n",
    "        if field==\"request\":\n",
    "            traderequest_dict=result_dict[field]._asdict()\n",
    "            for tradereq_filed in traderequest_dict:\n",
    "                print(\"       traderequest: {}={}\".format(tradereq_filed,traderequest_dict[tradereq_filed]))\n",
    "    print(\"shutdown() and quit\")\n",
    "    mt5.shutdown()\n",
    "    quit()"
   ]
  },
  {
   "cell_type": "code",
   "execution_count": null,
   "metadata": {},
   "outputs": [],
   "source": []
  }
 ],
 "metadata": {
  "kernelspec": {
   "display_name": "Python 3",
   "language": "python",
   "name": "python3"
  }
 },
 "nbformat": 4,
 "nbformat_minor": 4
}
